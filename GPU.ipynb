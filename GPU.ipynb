{
 "cells": [
  {
   "cell_type": "markdown",
   "metadata": {},
   "source": [
    "Written by Liangzhe Liu\n",
    "\n",
    " \n",
    "\n",
    "\n",
    "\n",
    "\n"
   ]
  },
  {
   "cell_type": "markdown",
   "metadata": {},
   "source": [
    "This is an instruction to install Anaconda on Windows and using GPU to accelerate tensorflow"
   ]
  },
  {
   "cell_type": "markdown",
   "metadata": {},
   "source": [
    "# Set up Git\n",
    "\n",
    "+ Check your Git version on Windows by opening Powershell and run:\n",
    "\n",
    "  `git --version`\n",
    "\n",
    "  to know if you have installed Git. If not, check README.\n",
    "\n",
    "+ To set up your Git config file, run:\n",
    "\n",
    "  `git config --global user.name \"[Your Name]\"`\n",
    "\n",
    "  and \n",
    "\n",
    "  `git config --global user.email \"[youremail@domain.com]\"`\n",
    "\n",
    "  Type in your own username in `[Your Name]` and email in `[youremail@domain.com]`\n"
   ]
  },
  {
   "cell_type": "markdown",
   "metadata": {},
   "source": [
    "# Install Anaconda 3\n",
    "\n",
    "  Go to this [webiste](https://www.anaconda.com/products/individual) to download the Windows installer for Anaconda 3. Once downloaded, follow the install wizard. The default settings are usually good choices. Make sure to choose Anaconda's python kernel as default, as it makes using the different frameworks and plugins much easier.\n",
    "\n",
    "  Make sure to select the option \"Add Anaconda to my PATH environment variable\". There will be red text saying it is not recommended, but you will not be able to access the Anaconda package from your bash terminal with out this option checked.\n",
    "\n",
    "## Create an environment\n",
    "\n",
    "+ Open Anaconda Navigator by searching it in the search bar at the bottom left of your screen\n",
    "\n",
    "+ Click the right triangle by the `base` environment and choose `Open terminal`\n",
    "\n",
    "  `conda create --name tensorflow python=3.7 numpy pandas scipy matplotlib h5py scikit-learn nb_conda tensorflow-gpu keras`\n",
    "\n",
    "  The above command create an environment called `tensorflow` and run:\n",
    "\n",
    "  `conda activate tensorflow`\n",
    "\n",
    "  to activate the environment. Notice that the `(base)` has changed to `(tensorflow)` at the start of the command line."
   ]
  },
  {
   "cell_type": "markdown",
   "metadata": {},
   "source": [
    "# Open jupyter notebook\n",
    "\n",
    "+ Jupyter notebook is the platform that we work on\n",
    "\n",
    "## 1. Using your browser to open jupyter notebook\n",
    "\n",
    "+ Activate our environment from conda \n",
    "\n",
    "  `conda activate tensorflow`\n",
    "\n",
    "+ Open up jupyter notebook by run:\n",
    "\n",
    "  `jupyter notebook`\n",
    "\n",
    "+ Or, you can use Anaconda Navigator to open up jupyter. Choose `tensorflow` environment and then click `Open with Jupyter`\n",
    "\n",
    "## 2. Using Visual Studio Code to open jupyter notebook (Optional)\n",
    "\n",
    "### 1) Install VS Code\n",
    "\n",
    "+ Install [VS Code](https://code.visualstudio.com/download) on Windows, but not on Ubuntu (WSL)\n",
    "\n",
    "+ When prompted to **Select Additional Tasks** during installation, be sure to check the **Add to PATH** option so you can easily open a folder in WSL using the code command.\n",
    "\n",
    "+ Open Visual Studio Code\n",
    "\n",
    "+ Install [Anaconda Extension Pack](https://marketplace.visualstudio.com/items?itemName=ms-python.anaconda-extension-pack)\n",
    "\n",
    "+ Press `Ctrl+,` to open settings and search for `python.pythonpath` and set python path to\n",
    "  `C:\\Users\\[username]]\\Anaconda3\\envs\\tensorflow\\python.exe`\n",
    "\n",
    "### 2) Open notebook\n",
    "\n",
    "+ Open Visual Studio Code and Open the folder you saved your jupyter notebooks\n",
    "\n",
    "+ Open any notebook file .ipynb from the left side of the window (the explorer inside VS Code)\n",
    "\n",
    "+ Click on the top-right corner `Python: Idle` and choose `Python 3.7.9 64-bit ('tensorflow': conda)` (You may need to do it every time you open a new notebook from VS Code)\n",
    "\n",
    "+ Right now you should be fine to run the code in the notebook\n",
    "\n",
    "+ If the notebook is `Untrusted`, trust the notebook"
   ]
  },
  {
   "cell_type": "code",
   "execution_count": null,
   "metadata": {},
   "outputs": [],
   "source": []
  }
 ],
 "metadata": {
  "kernelspec": {
   "display_name": "Python 3.7 (tensorflow)",
   "language": "python",
   "name": "tensorflow"
  },
  "language_info": {
   "codemirror_mode": {
    "name": "ipython",
    "version": 3
   },
   "file_extension": ".py",
   "mimetype": "text/x-python",
   "name": "python",
   "nbconvert_exporter": "python",
   "pygments_lexer": "ipython3",
   "version": "3.7.9-final"
  }
 },
 "nbformat": 4,
 "nbformat_minor": 4
}