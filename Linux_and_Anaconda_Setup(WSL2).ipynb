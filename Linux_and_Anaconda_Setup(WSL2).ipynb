{
  "nbformat": 4,
  "nbformat_minor": 0,
  "metadata": {
    "colab": {
      "name": "Linux and Anaconda Setup(WSL2).ipynb",
      "provenance": [],
      "collapsed_sections": [],
      "toc_visible": true
    },
    "kernelspec": {
      "name": "python3",
      "display_name": "Python 3"
    }
  },
  "cells": [
    {
      "cell_type": "markdown",
      "metadata": {
        "id": "Kn7F4jmQqqtX",
        "colab_type": "text"
      },
      "source": [
        "Written by Liangzhe Liu"
      ]
    },
    {
      "cell_type": "markdown",
      "metadata": {
        "id": "Ar_4ga66JBWK",
        "colab_type": "text"
      },
      "source": [
        "This is an instruction to install Ubuntu on Windows 10 using Windows Subsystem for Linux 2 and Anaconda setup."
      ]
    },
    {
      "cell_type": "markdown",
      "metadata": {
        "id": "BkSuATskJibs",
        "colab_type": "text"
      },
      "source": [
        "# Install Ubuntu with WSL 2"
      ]
    },
    {
      "cell_type": "markdown",
      "metadata": {
        "id": "OqXUW8E2dmWa",
        "colab_type": "text"
      },
      "source": [
        "## Install WSL 1"
      ]
    },
    {
      "cell_type": "markdown",
      "metadata": {
        "id": "a0bZ_bHgKsf3",
        "colab_type": "text"
      },
      "source": [
        "+ Open PowerShell as administrator: right click on the Start button at the bottom-right of your screen and left click on \"Windows PowerShell (Administrator)\""
      ]
    },
    {
      "cell_type": "markdown",
      "metadata": {
        "id": "wZI58AeMLPlE",
        "colab_type": "text"
      },
      "source": [
        "+ Run:\n",
        "\n",
        "  `dism.exe /online /enable-feature /featurename:Microsoft-Windows-Subsystem-Linux /all /norestart`\n",
        "\n",
        "  This command enables WSL1 on your Windows PC, if any errors occurs, please follow the next step to update your Windows."
      ]
    },
    {
      "cell_type": "markdown",
      "metadata": {
        "id": "0FmEwAXzdtbl",
        "colab_type": "text"
      },
      "source": [
        "## Update to WSL2"
      ]
    },
    {
      "cell_type": "markdown",
      "metadata": {
        "id": "WlYpVxNRLnlv",
        "colab_type": "text"
      },
      "source": [
        "+ Check your Windows version by typing `winver` in PowerShell. In order to use **WSL2** you need to have **version 2004**, **build 19041** or higher. To update your Windows, get [Windows Update Assistant](https://www.microsoft.com/en-us/software-download/windows10) by clicking the **Update now** button"
      ]
    },
    {
      "cell_type": "markdown",
      "metadata": {
        "id": "7DWVe_5Bd3LX",
        "colab_type": "text"
      },
      "source": [
        "### Enable 'Virtual Machine Platform'"
      ]
    },
    {
      "cell_type": "markdown",
      "metadata": {
        "id": "vLDjKmsaNqnE",
        "colab_type": "text"
      },
      "source": [
        "+ Open PowerSheel as administrotor and run:\n",
        "\n",
        "  `dism.exe /online /enable-feature /featurename:VirtualMachinePlatform /all /norestart`\n",
        "\n",
        "  This command enables 'Virtual Machine Platform' optional component on Windows, which is essential to **WSL2**"
      ]
    },
    {
      "cell_type": "markdown",
      "metadata": {
        "id": "a3bsQLxNeC4q",
        "colab_type": "text"
      },
      "source": [
        "### Set WSL 2 as your default version"
      ]
    },
    {
      "cell_type": "markdown",
      "metadata": {
        "id": "SjW6QKoyOd0D",
        "colab_type": "text"
      },
      "source": [
        "+ Run the following command in PowerShell to set WSL2 as the default version when installing a new Linux distribution:\n",
        "\n",
        "  `wsl --set-default-version 2`\n",
        "\n",
        "  If you see a message `WSL 2 requires an update to its kernel component. For information please visit https://aka.ms/wsl2kernel`, please follow the [link](https://aka.ms/wsl2kernel) and install the MSI file from that page to install a Linux kernel on your Windows for WSL2 to use. After the kernel is installed, please run the command above again and it should complete successfully with a message `For information on key differences with WSL 2 please visit https://aka.ms/wsl2`."
      ]
    },
    {
      "cell_type": "markdown",
      "metadata": {
        "id": "cIdGiRT6uVm9",
        "colab_type": "text"
      },
      "source": [
        "+ Then, **restart** your computer."
      ]
    },
    {
      "cell_type": "markdown",
      "metadata": {
        "id": "Cd9avUj1eV8u",
        "colab_type": "text"
      },
      "source": [
        "### Install Ubuntu from Microsoft Store"
      ]
    },
    {
      "cell_type": "markdown",
      "metadata": {
        "id": "Q6Xe_a2UQJdx",
        "colab_type": "text"
      },
      "source": [
        "- Open the [Microsoft Store](https://aka.ms/wslstore) and search for the Ubuntu distribution you want and press **Get** on the download page. We will choose [Ubuntu 18.04 LTS](https://www.microsoft.com/store/apps/9N9TNGVNDL3Q) in this tutorial.\n",
        "\n",
        "![](https://docs.microsoft.com/zh-cn/windows/wsl/media/store.png)\n",
        "\n",
        "![](https://docs.microsoft.com/zh-cn/windows/wsl/media/ubuntustore.png)"
      ]
    },
    {
      "cell_type": "markdown",
      "metadata": {
        "id": "n43Ve9oGRGYO",
        "colab_type": "text"
      },
      "source": [
        "+ After Ubuntu is downloaded, start it by typing `Ubuntu` in the search bar at the bottom-left of your screen or simply just left-click the Start button at the bottom-left of your screen and type `Ubuntu`. A console window will show up on your screen and you'll be asked to create a user account and password for your Ubuntu after the installation is complete.\n",
        "\n",
        "![](https://docs.microsoft.com/zh-cn/windows/wsl/media/ubuntuinstall.png)"
      ]
    },
    {
      "cell_type": "markdown",
      "metadata": {
        "id": "ta1EbNK9VdPM",
        "colab_type": "text"
      },
      "source": [
        "+ Once you see something like\n",
        "\n",
        "  `[Your user name]@[Your device name]:$`\n",
        "\n",
        "  your Ubuntu is successfully installed."
      ]
    },
    {
      "cell_type": "markdown",
      "metadata": {
        "id": "7V8BNT3UXD3e",
        "colab_type": "text"
      },
      "source": [
        "+ You can also check your installed distribution and WSL version it used by run this command in PowerShell:\n",
        "\n",
        "  `wsl -l -v` or `wsl.exe -l -v`"
      ]
    },
    {
      "cell_type": "markdown",
      "metadata": {
        "id": "5JcwntY6XcLi",
        "colab_type": "text"
      },
      "source": [
        "For more info on installing WSL2, check this [source](https://docs.microsoft.com/en-us/windows/wsl/install-win10)."
      ]
    },
    {
      "cell_type": "markdown",
      "metadata": {
        "id": "o5shIpAaaRnx",
        "colab_type": "text"
      },
      "source": [
        "# Install Windows Terminal (Optional)"
      ]
    },
    {
      "cell_type": "markdown",
      "metadata": {
        "id": "VW_Stj4GaVf_",
        "colab_type": "text"
      },
      "source": [
        "+ Windows Terminal is a better looking console window, you can get it from [Microsoft Store](https://www.microsoft.com/store/productId/9N0DX20HK701) or [GitHub](https://github.com/microsoft/terminal)\n",
        "\n",
        "![](https://docs.microsoft.com/zh-cn/windows/terminal/images/overview.png)"
      ]
    },
    {
      "cell_type": "markdown",
      "metadata": {
        "id": "-unvynvOX37J",
        "colab_type": "text"
      },
      "source": [
        "# Set up Git\n"
      ]
    },
    {
      "cell_type": "markdown",
      "metadata": {
        "id": "WL-9K2DLdEhi",
        "colab_type": "text"
      },
      "source": [
        "+ Open Ubuntu and run:\n",
        "\n",
        "  `git --version`\n",
        "\n",
        "  This command checks the current version installed in Ubuntu\n",
        "\n",
        "  It should show a message `git version x.xx.x`\n",
        "\n",
        "  If a message like `git: command not found`, you should run:\n",
        "\n",
        "  `sudo apt-get install git`"
      ]
    },
    {
      "cell_type": "markdown",
      "metadata": {
        "id": "SM3Lj3IAfGEW",
        "colab_type": "text"
      },
      "source": [
        "+ To set up your Git config file, run:\n",
        "\n",
        "  `git config --global user.name \"[Your Name]\"`\n",
        "\n",
        "  and \n",
        "\n",
        "  `git config --global user.email \"[youremail@domain.com]\"`\n",
        "\n",
        "  Type in your own username in `[Your Name]` and email in `[youremail@domain.com]`"
      ]
    },
    {
      "cell_type": "markdown",
      "metadata": {
        "id": "syby3eJRfgcF",
        "colab_type": "text"
      },
      "source": [
        "+ If you want to store your GitHub account information, run\n",
        "\n",
        "  `git config --global credential.helper \"/mnt/c/Program\\ Files/Git/mingw64/libexec/git-core/git-credential-manager.exe\"`\n",
        "\n",
        "  This enables you to use Windows Credential Manager to store GitHub account and do not need to enter GitHub account info every time you `git push`"
      ]
    },
    {
      "cell_type": "markdown",
      "metadata": {
        "id": "s2tVFQoPgHrk",
        "colab_type": "text"
      },
      "source": [
        "# Install Anaconda"
      ]
    },
    {
      "cell_type": "markdown",
      "metadata": {
        "id": "AFVN2CZdg2HB",
        "colab_type": "text"
      },
      "source": [
        "+ Open Ubuntu and run:\n",
        "\n",
        "  `sudo apt-get update`\n",
        "\n",
        "  and add wget and ca-certificates\n",
        "\n",
        "  `sudo apt-get install wget ca-certificates`"
      ]
    },
    {
      "cell_type": "markdown",
      "metadata": {
        "id": "KMw2qHT2hLQP",
        "colab_type": "text"
      },
      "source": [
        "+ Run:\n",
        "\n",
        "  `cd`\n",
        "\n",
        "  to make sure you are in the default user folder of Ubuntu and run:\n",
        "\n",
        "  `wget https://repo.anaconda.com/archive/Anaconda3-2020.07-Linux-x86_64.sh`\n",
        "\n",
        "  to get Anaconda 3 installer to your Ubuntu, and run:\n",
        "\n",
        "  `bash Anaconda3-2020.07-Linux-x86_64.sh`\n",
        "\n",
        "  to install Anaconda"
      ]
    },
    {
      "cell_type": "markdown",
      "metadata": {
        "id": "dmLmTD15ho34",
        "colab_type": "text"
      },
      "source": [
        "+ During the installation you first need to constantly press `ENTER` until you see `please type 'yes' or 'no': ` to scroll through the terms. Then, type `yes` to accept the terms.\n",
        "\n",
        "+ Then press `ENTER` to install Anaconda to the default install location and wait for it to finish installing.\n",
        "\n",
        "+ When the installer prompts `Do you wish the installer to initialize Anaconda3 by running conda init?`, type `yes`\n",
        "\n",
        "+ The installation finishes with `Thank you for installing Anaconda 3!`\n",
        "\n",
        "+ Close the terminal and re-open Ubuntu, you should see something like\n",
        "\n",
        "  `(base)[Your User Name]@[Your Device Name]:$`\n",
        "\n",
        "  Your Anaconda 3 is sucessfully installed!"
      ]
    },
    {
      "cell_type": "markdown",
      "metadata": {
        "id": "Tn5pL3rJpPzP",
        "colab_type": "text"
      },
      "source": [
        "For more information on installation Anaconda 3, check [source](https://docs.anaconda.com/anaconda/install/linux/)"
      ]
    },
    {
      "cell_type": "markdown",
      "metadata": {
        "id": "iIAtsINpjXiC",
        "colab_type": "text"
      },
      "source": [
        "## Create an environment"
      ]
    },
    {
      "cell_type": "markdown",
      "metadata": {
        "id": "m2iOOKL1jdrt",
        "colab_type": "text"
      },
      "source": [
        "+ Open Ubuntu and run:\n",
        "\n",
        "  `conda create --name=EPE_ML_TF2 python=3.6 numpy pandas scipy matplotlib h5py scikit-learn jupyter`\n",
        "\n",
        "  The above command create an environment called `EPE_ML_TF2` and run:\n",
        "\n",
        "  `conda activate EPE_ML_TF2`\n",
        "\n",
        "  to activate the environment. Notice that the `(base)` has changed to `(EPE_ML_TF2)` at the start of the command line. Then, run:\n",
        "\n",
        "  `pip install keras==2.4.2 tensorflow==2.2.0`\n",
        "\n",
        "  to install keras and tensorflow\n",
        "\n",
        "+ You would notice a red alert said `tensorflow only support scipy==1.4.1` at the end of the installation. You can run\n",
        "\n",
        "  `conda install scipy=1.4.1`\n",
        "\n",
        "  to install `scipy` version 1.4.1"
      ]
    },
    {
      "cell_type": "markdown",
      "metadata": {
        "id": "3SoPWr_nkrx8",
        "colab_type": "text"
      },
      "source": [
        "# Open jupyter notebook"
      ]
    },
    {
      "cell_type": "markdown",
      "metadata": {
        "id": "SqR1gXH5npAZ",
        "colab_type": "text"
      },
      "source": [
        "+ Jupyter notebook is the platform that we work on"
      ]
    },
    {
      "cell_type": "markdown",
      "metadata": {
        "id": "7REr5lAjoFr9",
        "colab_type": "text"
      },
      "source": [
        "## 1. Using your browser to open jupyter notebook"
      ]
    },
    {
      "cell_type": "markdown",
      "metadata": {
        "id": "ucJK_74O1lwD",
        "colab_type": "text"
      },
      "source": [
        "+ Open Ubuntu and run:\n",
        "\n",
        "  `cd /mnt/c/Users/[Username]`\n",
        "\n",
        "  to locate to the folder you want to open jupyter notebook. The path above represents `C:\\Users\\[Username]` in Windows. If you stored your cloned repo from GitHub to `D:\\`, you should run\n",
        "\n",
        "  `cd /mnt/d`"
      ]
    },
    {
      "cell_type": "markdown",
      "metadata": {
        "id": "FiNMxqcoqE1I",
        "colab_type": "text"
      },
      "source": [
        "### 1) Something you need to do for the first time using jupyter notebook inside WSL"
      ]
    },
    {
      "cell_type": "markdown",
      "metadata": {
        "id": "AYyb_HsqoMn2",
        "colab_type": "text"
      },
      "source": [
        "+ Run:\n",
        "\n",
        "  `export BROWSER=\"/mnt/c/Program Files (x86)/Google/Chrome/Application/chrome.exe\"`\n",
        "\n",
        "  to let Ubuntu know the install location of your browser on Windows. The above example is for Google Chrome on Windows. For other browsers like the new Microsoft Edge, run:\n",
        "\n",
        "  `export BROWSER=\"/mnt/c/Program Files (x86)/Microsoft/Edge/Application/msedge.exe\"`"
      ]
    },
    {
      "cell_type": "markdown",
      "metadata": {
        "id": "AKt1gNq9pFmF",
        "colab_type": "text"
      },
      "source": [
        "+ Then, run:\n",
        "\n",
        "  `jupyter notebook --generate-config`\n",
        "\n",
        "  `echo c.NotebookApp.use_redirect_file = False >> ~/.jupyter/jupyter_notebook_config.py`"
      ]
    },
    {
      "cell_type": "markdown",
      "metadata": {
        "id": "IxAlSk1Iq8hH",
        "colab_type": "text"
      },
      "source": [
        "Thanks @mcg1969 on GitHub! [source](https://gist.github.com/kauffmanes/5e74916617f9993bc3479f401dfec7da)"
      ]
    },
    {
      "cell_type": "markdown",
      "metadata": {
        "id": "dk5sirfuqjlq",
        "colab_type": "text"
      },
      "source": [
        "### 2) Everytime you want to start jupyter notebook"
      ]
    },
    {
      "cell_type": "markdown",
      "metadata": {
        "id": "fyYxkodop08V",
        "colab_type": "text"
      },
      "source": [
        "+ Activate our environment from conda \n",
        "\n",
        "  `conda activate EPE_ML_TF2`"
      ]
    },
    {
      "cell_type": "markdown",
      "metadata": {
        "id": "6aM4Aqrapo2r",
        "colab_type": "text"
      },
      "source": [
        "+ Open up jupyter notebook by run:\n",
        "\n",
        "  `jupyter notebook`"
      ]
    },
    {
      "cell_type": "markdown",
      "metadata": {
        "id": "g4JdFj7IrhRl",
        "colab_type": "text"
      },
      "source": [
        "## 2. Using Visual Studio Code to open jupyter notebook (Optional)"
      ]
    },
    {
      "cell_type": "markdown",
      "metadata": {
        "id": "AfiqVXzf3vJa",
        "colab_type": "text"
      },
      "source": [
        "### 1) Install VS Code"
      ]
    },
    {
      "cell_type": "markdown",
      "metadata": {
        "id": "TiryuZj9rrTP",
        "colab_type": "text"
      },
      "source": [
        "+ Install [VS Code](https://code.visualstudio.com/download) on Windows, but not on Ubuntu (WSL)\n",
        "\n",
        "+ When prompted to **Select Additional Tasks** during installation, be sure to check the **Add to PATH** option so you can easily open a folder in WSL using the code command.\n",
        "\n",
        "+ Launch VS Code for the first time and install this [extension](https://marketplace.visualstudio.com/items?itemName=ms-vscode-remote.vscode-remote-extensionpack)"
      ]
    },
    {
      "cell_type": "markdown",
      "metadata": {
        "id": "ESEDrboLtfI1",
        "colab_type": "text"
      },
      "source": [
        "+ Open Ubuntu and run:\n",
        "\n",
        "  `Code .` (note there is a dot after `Code`)\n",
        "\n",
        "  This should let you access WSL in VS Code"
      ]
    },
    {
      "cell_type": "markdown",
      "metadata": {
        "id": "5K7gsLWIzCxG",
        "colab_type": "text"
      },
      "source": [
        "+ Install [Anaconda Extension Pack](https://marketplace.visualstudio.com/items?itemName=ms-python.anaconda-extension-pack)\n",
        "\n"
      ]
    },
    {
      "cell_type": "markdown",
      "metadata": {
        "id": "QueR2P9b0Ad7",
        "colab_type": "text"
      },
      "source": [
        "+ Press `Ctrl+,` to open settings and search for `python.pythonpath` and set python path to\n",
        "  `/home/[username]/anaconda3/envs/EPE_ML_TF2/bin/python`"
      ]
    },
    {
      "cell_type": "markdown",
      "metadata": {
        "id": "ytPIt97c3-0m",
        "colab_type": "text"
      },
      "source": [
        "### 2) Open notebook"
      ]
    },
    {
      "cell_type": "markdown",
      "metadata": {
        "id": "ETGgjlWJ4Dtl",
        "colab_type": "text"
      },
      "source": [
        "+ Head back to Ubuntu terminal and directed to the path of local git repo using `cd` command"
      ]
    },
    {
      "cell_type": "markdown",
      "metadata": {
        "id": "g4rcsvB-1fHv",
        "colab_type": "text"
      },
      "source": [
        "+ Run:\n",
        "\n",
        "  `Code .`"
      ]
    },
    {
      "cell_type": "markdown",
      "metadata": {
        "id": "S15vUjEJ4Y96",
        "colab_type": "text"
      },
      "source": [
        "+ Open any notebook file .ipynb from the left side of the window (the explorer inside VS Code)\n",
        "\n",
        "+ Click on the top-right corner `Python: Idle` and choose `Python 3.6.10 64-bit ('EPE_ML_TF2': conda)` (You may need to do it every time you open a new notebook from VS Code)\n",
        "\n",
        "+ Right now you should be fine to run the code in the notebook "
      ]
    },
    {
      "cell_type": "markdown",
      "metadata": {
        "id": "C9T2H8FR4yds",
        "colab_type": "text"
      },
      "source": [
        "+ If the notebook is `Untrusted`, trust the notebook"
      ]
    }
  ]
}